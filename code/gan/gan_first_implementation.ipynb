{
 "cells": [
  {
   "cell_type": "code",
   "execution_count": 1,
   "metadata": {
    "collapsed": false
   },
   "outputs": [],
   "source": [
    "import numpy as np\n",
    "import matplotlib.pyplot as plt\n",
    "import tensorflow as tf\n",
    "import prettytensor as pt\n",
    "from numpy.random import multivariate_normal,random_sample\n",
    "from datetime import datetime\n",
    "%matplotlib inline"
   ]
  },
  {
   "cell_type": "code",
   "execution_count": 2,
   "metadata": {
    "collapsed": true
   },
   "outputs": [],
   "source": [
    "latent_size = 2\n",
    "batch_size = 200\n",
    "data_size = 2\n",
    "\n",
    "# for Adam optimizer:\n",
    "eta = 2e-4\n",
    "beta1 = 0.5"
   ]
  },
  {
   "cell_type": "markdown",
   "metadata": {},
   "source": [
    "# Data distribution $p_{data}$\n",
    "\n",
    "$$\n",
    "p_{data} = \\mathcal{N}\\bigg((1,1), \n",
    "\\begin{pmatrix}\n",
    "1 & 0.9\\\\\n",
    "0.9 & 1\\\\\n",
    "\\end{pmatrix}\n",
    "\\bigg)\n",
    "$$"
   ]
  },
  {
   "cell_type": "code",
   "execution_count": 3,
   "metadata": {
    "collapsed": false
   },
   "outputs": [],
   "source": [
    "def gen_data(n_samples):\n",
    "    \"\"\"generate data according to p_data\"\"\"\n",
    "    mean = [1,1]\n",
    "    covariance = [[1,0.9], [0.9,1]]\n",
    "    return multivariate_normal(mean, covariance, n_samples)\n",
    "\n",
    "def gen_noise(batch_size, latent_dim):\n",
    "    \"\"\"generate n_samples of random noise\"\"\"\n",
    "    return random_sample((batch_size, latent_dim))"
   ]
  },
  {
   "cell_type": "code",
   "execution_count": 4,
   "metadata": {
    "collapsed": false
   },
   "outputs": [],
   "source": [
    "def viz_data(data):\n",
    "    \"\"\"Plot a scatterplot of the given data\"\"\"\n",
    "    assert data.shape[1] == 2\n",
    "    plt.scatter(data[:,0], data[:,1], edgecolors='face', alpha=0.3, marker='o', linewidths=0.1)"
   ]
  },
  {
   "cell_type": "code",
   "execution_count": 5,
   "metadata": {
    "collapsed": false
   },
   "outputs": [
    {
     "data": {
      "image/png": "[encoded data removed]",
      "text/plain": [
       "<matplotlib.figure.Figure at 0x7f471a9589e8>"
      ]
     },
     "metadata": {},
     "output_type": "display_data"
    }
   ],
   "source": [
    "viz_data(gen_data(2000))"
   ]
  },
  {
   "cell_type": "code",
   "execution_count": 6,
   "metadata": {
    "collapsed": false
   },
   "outputs": [],
   "source": [
    "def generator(input_data):\n",
    "    with pt.defaults_scope(activation_fn=tf.nn.tanh, variable_collections=['generator']):\n",
    "        return (pt.wrap(input_data).flatten()\n",
    "               .fully_connected(100)\n",
    "               .fully_connected(100)\n",
    "               .fully_connected(2))"
   ]
  },
  {
   "cell_type": "code",
   "execution_count": 7,
   "metadata": {
    "collapsed": false
   },
   "outputs": [],
   "source": [
    "def discriminator(input_data):\n",
    "    with pt.defaults_scope(activation_fn=tf.nn.tanh, variable_collections=['discriminator']):\n",
    "        return (pt.wrap(input_data).flatten()\n",
    "               .fully_connected(100)\n",
    "               .fully_connected(100)\n",
    "               .fully_connected(1, activation_fn=tf.nn.sigmoid)\n",
    "               )"
   ]
  },
  {
   "cell_type": "code",
   "execution_count": 8,
   "metadata": {
    "collapsed": false
   },
   "outputs": [],
   "source": [
    "tf.reset_default_graph()\n",
    "data_tensor = tf.placeholder(np.float32, shape=(batch_size, data_size))\n",
    "noise_tensor = tf.placeholder(np.float32, shape=(batch_size, latent_size))\n",
    "\n",
    "\n",
    "output_g = generator(noise_tensor)\n",
    "output_d_real = discriminator(data_tensor)\n",
    "output_d_fake = discriminator(output_g)\n",
    "\n",
    "# discriminator loss (for both cases)\n",
    "loss_d_real = -tf.reduce_mean(tf.log(output_d_real + 1e-12))\n",
    "loss_d_fake = -tf.reduce_mean(tf.log((1 - output_d_fake) + 1e-12))\n",
    "loss_d = loss_d_real + loss_d_fake\n",
    "\n",
    "# generator loss\n",
    "loss_g = -tf.reduce_mean(tf.log(loss_d_fake + 1e-12))"
   ]
  },
  {
   "cell_type": "code",
   "execution_count": 9,
   "metadata": {
    "collapsed": false
   },
   "outputs": [],
   "source": [
    "summary_d = [\n",
    "    tf.scalar_summary('loss_d_real', loss_d_real),\n",
    "    tf.scalar_summary('loss_d_fake', loss_d_fake)\n",
    "    ]\n",
    "summary_g = [\n",
    "    tf.scalar_summary('loss_g', loss_g)\n",
    "]\n",
    "merged_d = tf.merge_summary(summary_d)\n",
    "merged_g = tf.merge_summary(summary_g)"
   ]
  },
  {
   "cell_type": "code",
   "execution_count": 10,
   "metadata": {
    "collapsed": false
   },
   "outputs": [],
   "source": [
    "vars_d = tf.get_collection('discriminator')\n",
    "vars_g = tf.get_collection('generator')"
   ]
  },
  {
   "cell_type": "code",
   "execution_count": 11,
   "metadata": {
    "collapsed": false
   },
   "outputs": [],
   "source": [
    "assert len(vars_g) == 6\n",
    "assert len(vars_d) == len(vars_g) * 2"
   ]
  },
  {
   "cell_type": "code",
   "execution_count": 12,
   "metadata": {
    "collapsed": false
   },
   "outputs": [],
   "source": [
    "opt_d = tf.train.AdamOptimizer(eta, beta1=beta1)\\\n",
    "            .minimize(loss_d, var_list = vars_d)\n",
    "\n",
    "opt_g = tf.train.AdamOptimizer(eta, beta1=beta1)\\\n",
    "            .minimize(loss_g, var_list = vars_g)"
   ]
  },
  {
   "cell_type": "code",
   "execution_count": 13,
   "metadata": {
    "collapsed": true
   },
   "outputs": [],
   "source": [
    "init_op = tf.initialize_all_variables()"
   ]
  },
  {
   "cell_type": "code",
   "execution_count": 14,
   "metadata": {
    "collapsed": true
   },
   "outputs": [],
   "source": [
    "sess = tf.Session()\n",
    "sess.run(init_op)"
   ]
  },
  {
   "cell_type": "code",
   "execution_count": 15,
   "metadata": {
    "collapsed": true
   },
   "outputs": [],
   "source": [
    "now = str(datetime.now()).replace(' ', '_').replace(':', '_')\n",
    "sum_writer = tf.train.SummaryWriter('logs_{}/'.format(now))"
   ]
  },
  {
   "cell_type": "code",
   "execution_count": 16,
   "metadata": {
    "collapsed": true
   },
   "outputs": [],
   "source": [
    "# update discriminator once\n",
    "real_data = gen_data(batch_size)\n",
    "noise = gen_noise(batch_size, latent_size)\n",
    "l_d, summary = sess.run([loss_d, merged_d], {data_tensor: real_data, noise_tensor: noise})\n",
    "sum_writer.add_summary(summary)"
   ]
  },
  {
   "cell_type": "code",
   "execution_count": 17,
   "metadata": {
    "collapsed": false
   },
   "outputs": [],
   "source": [
    "noise = gen_noise(batch_size, latent_size)\n",
    "l_g, summary = sess.run([loss_g, merged_g], {noise_tensor: noise})\n",
    "sum_writer.add_summary(summary)"
   ]
  },
  {
   "cell_type": "code",
   "execution_count": 18,
   "metadata": {
    "collapsed": false
   },
   "outputs": [
    {
     "name": "stdout",
     "output_type": "stream",
     "text": [
      "epoch 0/20000: 0.0%\n",
      "epoch 100/20000: 0.005%\n",
      "epoch 200/20000: 0.01%\n",
      "epoch 300/20000: 0.015%\n",
      "epoch 400/20000: 0.02%\n",
      "epoch 500/20000: 0.025%\n",
      "epoch 600/20000: 0.03%\n",
      "epoch 700/20000: 0.035%\n",
      "epoch 800/20000: 0.04%\n",
      "epoch 900/20000: 0.045%\n",
      "epoch 1000/20000: 0.05%\n",
      "epoch 1100/20000: 0.055%\n",
      "epoch 1200/20000: 0.06%\n",
      "epoch 1300/20000: 0.065%\n",
      "epoch 1400/20000: 0.07%\n",
      "epoch 1500/20000: 0.075%\n",
      "epoch 1600/20000: 0.08%\n",
      "epoch 1700/20000: 0.085%\n",
      "epoch 1800/20000: 0.09%\n",
      "epoch 1900/20000: 0.095%\n",
      "epoch 2000/20000: 0.1%\n",
      "epoch 2100/20000: 0.105%\n",
      "epoch 2200/20000: 0.11%\n",
      "epoch 2300/20000: 0.115%\n",
      "epoch 2400/20000: 0.12%\n",
      "epoch 2500/20000: 0.125%\n",
      "epoch 2600/20000: 0.13%\n",
      "epoch 2700/20000: 0.135%\n",
      "epoch 2800/20000: 0.14%\n",
      "epoch 2900/20000: 0.145%\n",
      "epoch 3000/20000: 0.15%\n",
      "epoch 3100/20000: 0.155%\n",
      "epoch 3200/20000: 0.16%\n",
      "epoch 3300/20000: 0.165%\n",
      "epoch 3400/20000: 0.17%\n",
      "epoch 3500/20000: 0.175%\n",
      "epoch 3600/20000: 0.18%\n",
      "epoch 3700/20000: 0.185%\n",
      "epoch 3800/20000: 0.19%\n",
      "epoch 3900/20000: 0.195%\n",
      "epoch 4000/20000: 0.2%\n",
      "epoch 4100/20000: 0.205%\n",
      "epoch 4200/20000: 0.21%\n",
      "epoch 4300/20000: 0.215%\n",
      "epoch 4400/20000: 0.22%\n",
      "epoch 4500/20000: 0.225%\n",
      "epoch 4600/20000: 0.23%\n",
      "epoch 4700/20000: 0.235%\n",
      "epoch 4800/20000: 0.24%\n",
      "epoch 4900/20000: 0.245%\n",
      "epoch 5000/20000: 0.25%\n",
      "epoch 5100/20000: 0.255%\n",
      "epoch 5200/20000: 0.26%\n",
      "epoch 5300/20000: 0.265%\n",
      "epoch 5400/20000: 0.27%\n",
      "epoch 5500/20000: 0.275%\n",
      "epoch 5600/20000: 0.28%\n",
      "epoch 5700/20000: 0.285%\n",
      "epoch 5800/20000: 0.29%\n",
      "epoch 5900/20000: 0.295%\n",
      "epoch 6000/20000: 0.3%\n",
      "epoch 6100/20000: 0.305%\n",
      "epoch 6200/20000: 0.31%\n",
      "epoch 6300/20000: 0.315%\n",
      "epoch 6400/20000: 0.32%\n",
      "epoch 6500/20000: 0.325%\n",
      "epoch 6600/20000: 0.33%\n",
      "epoch 6700/20000: 0.335%\n",
      "epoch 6800/20000: 0.34%\n",
      "epoch 6900/20000: 0.345%\n",
      "epoch 7000/20000: 0.35%\n",
      "epoch 7100/20000: 0.355%\n",
      "epoch 7200/20000: 0.36%\n",
      "epoch 7300/20000: 0.365%\n",
      "epoch 7400/20000: 0.37%\n",
      "epoch 7500/20000: 0.375%\n",
      "epoch 7600/20000: 0.38%\n",
      "epoch 7700/20000: 0.385%\n",
      "epoch 7800/20000: 0.39%\n",
      "epoch 7900/20000: 0.395%\n",
      "epoch 8000/20000: 0.4%\n",
      "epoch 8100/20000: 0.405%\n",
      "epoch 8200/20000: 0.41%\n",
      "epoch 8300/20000: 0.415%\n",
      "epoch 8400/20000: 0.42%\n",
      "epoch 8500/20000: 0.425%\n",
      "epoch 8600/20000: 0.43%\n",
      "epoch 8700/20000: 0.435%\n",
      "epoch 8800/20000: 0.44%\n",
      "epoch 8900/20000: 0.445%\n",
      "epoch 9000/20000: 0.45%\n",
      "epoch 9100/20000: 0.455%\n",
      "epoch 9200/20000: 0.46%\n",
      "epoch 9300/20000: 0.465%\n",
      "epoch 9400/20000: 0.47%\n",
      "epoch 9500/20000: 0.475%\n",
      "epoch 9600/20000: 0.48%\n",
      "epoch 9700/20000: 0.485%\n",
      "epoch 9800/20000: 0.49%\n",
      "epoch 9900/20000: 0.495%\n",
      "epoch 10000/20000: 0.5%\n",
      "epoch 10100/20000: 0.505%\n",
      "epoch 10200/20000: 0.51%\n",
      "epoch 10300/20000: 0.515%\n",
      "epoch 10400/20000: 0.52%\n",
      "epoch 10500/20000: 0.525%\n",
      "epoch 10600/20000: 0.53%\n",
      "epoch 10700/20000: 0.535%\n",
      "epoch 10800/20000: 0.54%\n",
      "epoch 10900/20000: 0.545%\n",
      "epoch 11000/20000: 0.55%\n",
      "epoch 11100/20000: 0.555%\n",
      "epoch 11200/20000: 0.56%\n",
      "epoch 11300/20000: 0.565%\n",
      "epoch 11400/20000: 0.57%\n",
      "epoch 11500/20000: 0.575%\n",
      "epoch 11600/20000: 0.58%\n",
      "epoch 11700/20000: 0.585%\n",
      "epoch 11800/20000: 0.59%\n",
      "epoch 11900/20000: 0.595%\n",
      "epoch 12000/20000: 0.6%\n"
     ]
    },
    {
     "ename": "KeyboardInterrupt",
     "evalue": "",
     "output_type": "error",
     "traceback": [
      "\u001b[0;31m---------------------------------------------------------------------------\u001b[0m",
      "\u001b[0;31mKeyboardInterrupt\u001b[0m                         Traceback (most recent call last)",
      "\u001b[0;32m<ipython-input-18-d87504da7b68>\u001b[0m in \u001b[0;36m<module>\u001b[0;34m()\u001b[0m\n\u001b[1;32m      8\u001b[0m         \u001b[0mnoise\u001b[0m \u001b[0;34m=\u001b[0m \u001b[0mgen_noise\u001b[0m\u001b[0;34m(\u001b[0m\u001b[0mbatch_size\u001b[0m\u001b[0;34m,\u001b[0m \u001b[0mlatent_size\u001b[0m\u001b[0;34m)\u001b[0m\u001b[0;34m\u001b[0m\u001b[0m\n\u001b[1;32m      9\u001b[0m         \u001b[0;31m# run discriminator on real data this time\u001b[0m\u001b[0;34m\u001b[0m\u001b[0;34m\u001b[0m\u001b[0m\n\u001b[0;32m---> 10\u001b[0;31m         \u001b[0ml_d\u001b[0m\u001b[0;34m,\u001b[0m \u001b[0msummary\u001b[0m \u001b[0;34m=\u001b[0m \u001b[0msess\u001b[0m\u001b[0;34m.\u001b[0m\u001b[0mrun\u001b[0m\u001b[0;34m(\u001b[0m\u001b[0;34m[\u001b[0m\u001b[0mloss_d\u001b[0m\u001b[0;34m,\u001b[0m \u001b[0mmerged_d\u001b[0m\u001b[0;34m]\u001b[0m\u001b[0;34m,\u001b[0m \u001b[0;34m{\u001b[0m\u001b[0mdata_tensor\u001b[0m\u001b[0;34m:\u001b[0m \u001b[0mreal_data\u001b[0m\u001b[0;34m,\u001b[0m \u001b[0mnoise_tensor\u001b[0m\u001b[0;34m:\u001b[0m \u001b[0mnoise\u001b[0m\u001b[0;34m}\u001b[0m\u001b[0;34m)\u001b[0m\u001b[0;34m\u001b[0m\u001b[0m\n\u001b[0m\u001b[1;32m     11\u001b[0m         \u001b[0;32mif\u001b[0m \u001b[0mk\u001b[0m \u001b[0;34m==\u001b[0m \u001b[0mn_k\u001b[0m\u001b[0;34m-\u001b[0m\u001b[0;36m1\u001b[0m\u001b[0;34m:\u001b[0m\u001b[0;34m\u001b[0m\u001b[0m\n\u001b[1;32m     12\u001b[0m             \u001b[0msum_writer\u001b[0m\u001b[0;34m.\u001b[0m\u001b[0madd_summary\u001b[0m\u001b[0;34m(\u001b[0m\u001b[0msummary\u001b[0m\u001b[0;34m,\u001b[0m \u001b[0mepoch\u001b[0m\u001b[0;34m)\u001b[0m\u001b[0;34m\u001b[0m\u001b[0m\n",
      "\u001b[0;32m/usr/lib/python3.5/site-packages/tensorflow/python/client/session.py\u001b[0m in \u001b[0;36mrun\u001b[0;34m(self, fetches, feed_dict, options, run_metadata)\u001b[0m\n\u001b[1;32m    715\u001b[0m     \u001b[0;32mtry\u001b[0m\u001b[0;34m:\u001b[0m\u001b[0;34m\u001b[0m\u001b[0m\n\u001b[1;32m    716\u001b[0m       result = self._run(None, fetches, feed_dict, options_ptr,\n\u001b[0;32m--> 717\u001b[0;31m                          run_metadata_ptr)\n\u001b[0m\u001b[1;32m    718\u001b[0m       \u001b[0;32mif\u001b[0m \u001b[0mrun_metadata\u001b[0m\u001b[0;34m:\u001b[0m\u001b[0;34m\u001b[0m\u001b[0m\n\u001b[1;32m    719\u001b[0m         \u001b[0mproto_data\u001b[0m \u001b[0;34m=\u001b[0m \u001b[0mtf_session\u001b[0m\u001b[0;34m.\u001b[0m\u001b[0mTF_GetBuffer\u001b[0m\u001b[0;34m(\u001b[0m\u001b[0mrun_metadata_ptr\u001b[0m\u001b[0;34m)\u001b[0m\u001b[0;34m\u001b[0m\u001b[0m\n",
      "\u001b[0;32m/usr/lib/python3.5/site-packages/tensorflow/python/client/session.py\u001b[0m in \u001b[0;36m_run\u001b[0;34m(self, handle, fetches, feed_dict, options, run_metadata)\u001b[0m\n\u001b[1;32m    913\u001b[0m     \u001b[0;32mif\u001b[0m \u001b[0mfinal_fetches\u001b[0m \u001b[0;32mor\u001b[0m \u001b[0mfinal_targets\u001b[0m\u001b[0;34m:\u001b[0m\u001b[0;34m\u001b[0m\u001b[0m\n\u001b[1;32m    914\u001b[0m       results = self._do_run(handle, final_targets, final_fetches,\n\u001b[0;32m--> 915\u001b[0;31m                              feed_dict_string, options, run_metadata)\n\u001b[0m\u001b[1;32m    916\u001b[0m     \u001b[0;32melse\u001b[0m\u001b[0;34m:\u001b[0m\u001b[0;34m\u001b[0m\u001b[0m\n\u001b[1;32m    917\u001b[0m       \u001b[0mresults\u001b[0m \u001b[0;34m=\u001b[0m \u001b[0;34m[\u001b[0m\u001b[0;34m]\u001b[0m\u001b[0;34m\u001b[0m\u001b[0m\n",
      "\u001b[0;32m/usr/lib/python3.5/site-packages/tensorflow/python/client/session.py\u001b[0m in \u001b[0;36m_do_run\u001b[0;34m(self, handle, target_list, fetch_list, feed_dict, options, run_metadata)\u001b[0m\n\u001b[1;32m    963\u001b[0m     \u001b[0;32mif\u001b[0m \u001b[0mhandle\u001b[0m \u001b[0;32mis\u001b[0m \u001b[0;32mNone\u001b[0m\u001b[0;34m:\u001b[0m\u001b[0;34m\u001b[0m\u001b[0m\n\u001b[1;32m    964\u001b[0m       return self._do_call(_run_fn, self._session, feed_dict, fetch_list,\n\u001b[0;32m--> 965\u001b[0;31m                            target_list, options, run_metadata)\n\u001b[0m\u001b[1;32m    966\u001b[0m     \u001b[0;32melse\u001b[0m\u001b[0;34m:\u001b[0m\u001b[0;34m\u001b[0m\u001b[0m\n\u001b[1;32m    967\u001b[0m       return self._do_call(_prun_fn, self._session, handle, feed_dict,\n",
      "\u001b[0;32m/usr/lib/python3.5/site-packages/tensorflow/python/client/session.py\u001b[0m in \u001b[0;36m_do_call\u001b[0;34m(self, fn, *args)\u001b[0m\n\u001b[1;32m    970\u001b[0m   \u001b[0;32mdef\u001b[0m \u001b[0m_do_call\u001b[0m\u001b[0;34m(\u001b[0m\u001b[0mself\u001b[0m\u001b[0;34m,\u001b[0m \u001b[0mfn\u001b[0m\u001b[0;34m,\u001b[0m \u001b[0;34m*\u001b[0m\u001b[0margs\u001b[0m\u001b[0;34m)\u001b[0m\u001b[0;34m:\u001b[0m\u001b[0;34m\u001b[0m\u001b[0m\n\u001b[1;32m    971\u001b[0m     \u001b[0;32mtry\u001b[0m\u001b[0;34m:\u001b[0m\u001b[0;34m\u001b[0m\u001b[0m\n\u001b[0;32m--> 972\u001b[0;31m       \u001b[0;32mreturn\u001b[0m \u001b[0mfn\u001b[0m\u001b[0;34m(\u001b[0m\u001b[0;34m*\u001b[0m\u001b[0margs\u001b[0m\u001b[0;34m)\u001b[0m\u001b[0;34m\u001b[0m\u001b[0m\n\u001b[0m\u001b[1;32m    973\u001b[0m     \u001b[0;32mexcept\u001b[0m \u001b[0merrors\u001b[0m\u001b[0;34m.\u001b[0m\u001b[0mOpError\u001b[0m \u001b[0;32mas\u001b[0m \u001b[0me\u001b[0m\u001b[0;34m:\u001b[0m\u001b[0;34m\u001b[0m\u001b[0m\n\u001b[1;32m    974\u001b[0m       \u001b[0mmessage\u001b[0m \u001b[0;34m=\u001b[0m \u001b[0mcompat\u001b[0m\u001b[0;34m.\u001b[0m\u001b[0mas_text\u001b[0m\u001b[0;34m(\u001b[0m\u001b[0me\u001b[0m\u001b[0;34m.\u001b[0m\u001b[0mmessage\u001b[0m\u001b[0;34m)\u001b[0m\u001b[0;34m\u001b[0m\u001b[0m\n",
      "\u001b[0;32m/usr/lib/python3.5/site-packages/tensorflow/python/client/session.py\u001b[0m in \u001b[0;36m_run_fn\u001b[0;34m(session, feed_dict, fetch_list, target_list, options, run_metadata)\u001b[0m\n\u001b[1;32m    952\u001b[0m         return tf_session.TF_Run(session, options,\n\u001b[1;32m    953\u001b[0m                                  \u001b[0mfeed_dict\u001b[0m\u001b[0;34m,\u001b[0m \u001b[0mfetch_list\u001b[0m\u001b[0;34m,\u001b[0m \u001b[0mtarget_list\u001b[0m\u001b[0;34m,\u001b[0m\u001b[0;34m\u001b[0m\u001b[0m\n\u001b[0;32m--> 954\u001b[0;31m                                  status, run_metadata)\n\u001b[0m\u001b[1;32m    955\u001b[0m \u001b[0;34m\u001b[0m\u001b[0m\n\u001b[1;32m    956\u001b[0m     \u001b[0;32mdef\u001b[0m \u001b[0m_prun_fn\u001b[0m\u001b[0;34m(\u001b[0m\u001b[0msession\u001b[0m\u001b[0;34m,\u001b[0m \u001b[0mhandle\u001b[0m\u001b[0;34m,\u001b[0m \u001b[0mfeed_dict\u001b[0m\u001b[0;34m,\u001b[0m \u001b[0mfetch_list\u001b[0m\u001b[0;34m)\u001b[0m\u001b[0;34m:\u001b[0m\u001b[0;34m\u001b[0m\u001b[0m\n",
      "\u001b[0;31mKeyboardInterrupt\u001b[0m: "
     ]
    }
   ],
   "source": [
    "num_epochs = 20000\n",
    "n_k = 10\n",
    "\n",
    "for epoch in range(0, num_epochs):\n",
    "    # update discriminator $k$ times\n",
    "    for k in range(0, n_k):\n",
    "        real_data = gen_data(batch_size)\n",
    "        noise = gen_noise(batch_size, latent_size)\n",
    "        # run discriminator on real data this time\n",
    "        l_d, summary = sess.run([loss_d, merged_d], {data_tensor: real_data, noise_tensor: noise})\n",
    "        if k == n_k-1:\n",
    "            sum_writer.add_summary(summary, epoch)\n",
    "    noise = gen_noise(batch_size, latent_size)\n",
    "    l_g, summary = sess.run([loss_g, merged_g], {noise_tensor: noise})\n",
    "    sum_writer.add_summary(summary, epoch)\n",
    "    if epoch % 100 == 0:\n",
    "        print('epoch {}/{}: {}%'.format(epoch, num_epochs, epoch/num_epochs))"
   ]
  },
  {
   "cell_type": "code",
   "execution_count": null,
   "metadata": {
    "collapsed": true
   },
   "outputs": [],
   "source": []
  }
 ],
 "metadata": {
  "kernelspec": {
   "display_name": "Python 3",
   "language": "python",
   "name": "python3"
  },
  "language_info": {
   "codemirror_mode": {
    "name": "ipython",
    "version": 3
   },
   "file_extension": ".py",
   "mimetype": "text/x-python",
   "name": "python",
   "nbconvert_exporter": "python",
   "pygments_lexer": "ipython3",
   "version": "3.5.2"
  }
 },
 "nbformat": 4,
 "nbformat_minor": 1
}
