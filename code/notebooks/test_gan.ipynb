{
 "cells": [
  {
   "cell_type": "code",
   "execution_count": 2,
   "metadata": {
    "collapsed": false
   },
   "outputs": [],
   "source": [
    "%load_ext autoreload\n",
    "%autoreload 2"
   ]
  },
  {
   "cell_type": "code",
   "execution_count": 5,
   "metadata": {
    "collapsed": false
   },
   "outputs": [],
   "source": [
    "# computation\n",
    "import numpy as np\n",
    "import tensorflow as tf\n",
    "import prettytensor as pt\n",
    "\n",
    "# utility funcs\n",
    "from numpy.random import uniform, random_sample,normal\n",
    "from datetime import datetime\n",
    "from scipy.stats import norm\n",
    "\n",
    "# visualization\n",
    "import matplotlib.pyplot as plt\n",
    "from IPython import display\n",
    "from IPython.display import HTML\n",
    "from matplotlib import animation\n",
    "import seaborn as sns\n",
    "%matplotlib inline\n",
    "\n",
    "# model\n",
    "from Network.GAN import GAN"
   ]
  },
  {
   "cell_type": "code",
   "execution_count": 6,
   "metadata": {
    "collapsed": true
   },
   "outputs": [],
   "source": [
    "def viz_data(data, i):\n",
    "    \"\"\"Plot a scatterplot of the given data\"\"\"\n",
    "    assert data.shape[1] == 1\n",
    "    f, ax = plt.subplots(figsize=(6,4))\n",
    "    # plot p_data\n",
    "    x = np.linspace(-3,5,1000)\n",
    "    y = norm.pdf(x, loc=1, scale=1)    # for example\n",
    "    ax.plot(x,y, label='p_data')\n",
    "\n",
    "    # draw data\n",
    "    sns.distplot(data, label='data', norm_hist=True, ax=ax)\n",
    "    \n",
    "    # draw decision boundary\n",
    "    f.suptitle('1D Generative Adversarial Network', fontsize=15)\n",
    "    frame_text = ax.text(0.02, 0.95,'',horizontalalignment='left',verticalalignment='top', transform=ax.transAxes)\n",
    "    frame_text.set_text('Timestep = %.1d' % i)\n",
    "    \n",
    "    plt.legend()"
   ]
  },
  {
   "cell_type": "code",
   "execution_count": 7,
   "metadata": {
    "collapsed": false
   },
   "outputs": [],
   "source": [
    "data = normal(loc=3, scale=5, size=(20000,1))"
   ]
  },
  {
   "cell_type": "code",
   "execution_count": null,
   "metadata": {
    "collapsed": false
   },
   "outputs": [],
   "source": [
    "g = GAN(hyper_params={'batch_size': 20000})"
   ]
  },
  {
   "cell_type": "code",
   "execution_count": null,
   "metadata": {
    "collapsed": false
   },
   "outputs": [],
   "source": [
    "viz_data(data, 1)"
   ]
  },
  {
   "cell_type": "code",
   "execution_count": null,
   "metadata": {
    "collapsed": false
   },
   "outputs": [],
   "source": [
    "viz_data(g.decode(),0)"
   ]
  },
  {
   "cell_type": "code",
   "execution_count": null,
   "metadata": {
    "collapsed": false,
    "scrolled": true
   },
   "outputs": [],
   "source": [
    "for i in range(0,5000):\n",
    "    g.train(data, num_epochs = 5, modulo=1, output = False)\n",
    "    plt.clf()\n",
    "    viz_data(g.decode(), i)\n",
    "    plt.savefig('anim/step_{:05}.png'.format(i))\n",
    "    display.display(plt.gcf())\n",
    "    display.clear_output(wait=True)"
   ]
  },
  {
   "cell_type": "code",
   "execution_count": null,
   "metadata": {
    "collapsed": true
   },
   "outputs": [],
   "source": []
  },
  {
   "cell_type": "code",
   "execution_count": null,
   "metadata": {
    "collapsed": true
   },
   "outputs": [],
   "source": []
  }
 ],
 "metadata": {
  "kernelspec": {
   "display_name": "Python 3",
   "language": "python",
   "name": "python3"
  },
  "language_info": {
   "codemirror_mode": {
    "name": "ipython",
    "version": 3
   },
   "file_extension": ".py",
   "mimetype": "text/x-python",
   "name": "python",
   "nbconvert_exporter": "python",
   "pygments_lexer": "ipython3",
   "version": "3.5.2"
  }
 },
 "nbformat": 4,
 "nbformat_minor": 1
}
